{
 "cells": [
  {
   "cell_type": "code",
   "execution_count": 1,
   "id": "8819923b",
   "metadata": {},
   "outputs": [
    {
     "name": "stdout",
     "output_type": "stream",
     "text": [
      "The Array Is:  [9, 8, 5, 2, 1, 7, 7]\n"
     ]
    }
   ],
   "source": [
    "from random import randint\n",
    "r = randint(5, 10)\n",
    "arr = []\n",
    "for i in range(r):\n",
    "    x = randint(1,10)\n",
    "    arr.append(x)\n",
    "print (\"The Array Is: \" , arr)\n",
    "n = len(arr);"
   ]
  },
  {
   "cell_type": "code",
   "execution_count": null,
   "id": "c183d7a6",
   "metadata": {},
   "outputs": [],
   "source": []
  },
  {
   "cell_type": "markdown",
   "id": "a0456d26",
   "metadata": {},
   "source": [
    "# Dynamic Programming"
   ]
  },
  {
   "cell_type": "code",
   "execution_count": 2,
   "id": "19befde0",
   "metadata": {},
   "outputs": [],
   "source": [
    "def HashingUnique(arr, n):        \n",
    "    s = dict();\n",
    "    \n",
    "    for i in range(n):        \n",
    "        if (arr[i] not in s.keys()):\n",
    "            s[arr[i]] = arr[i];\n",
    "        else:\n",
    "            print(\"Array is not Unique\")\n",
    "            return\n",
    "              \n",
    "    print(\"Array is Unique\")  "
   ]
  },
  {
   "cell_type": "code",
   "execution_count": 3,
   "id": "932a5449",
   "metadata": {},
   "outputs": [
    {
     "name": "stdout",
     "output_type": "stream",
     "text": [
      "Array is not Unique\n",
      "0.009478700000000062\n"
     ]
    }
   ],
   "source": [
    "import timeit\n",
    "\n",
    "# arr = [1 , 1 , 3 , 4 , 5 , 6 , 7 , 8 , 9 , 10]\n",
    "# n = len(arr);\n",
    "\n",
    "start = timeit.default_timer()\n",
    "x = HashingUnique(arr,n)\n",
    "end = timeit.timeit()\n",
    "trans_algo_time= timeit.default_timer()-start\n",
    "print(trans_algo_time)"
   ]
  },
  {
   "cell_type": "code",
   "execution_count": null,
   "id": "7728eba9",
   "metadata": {},
   "outputs": [],
   "source": []
  },
  {
   "cell_type": "markdown",
   "id": "793802d4",
   "metadata": {},
   "source": [
    "# Transform and Conquer"
   ]
  },
  {
   "cell_type": "code",
   "execution_count": 4,
   "id": "3cf825a2",
   "metadata": {},
   "outputs": [],
   "source": [
    "def TrasformUnique(arr,n):\n",
    "    sorttedarr=arr.sort()\n",
    "\n",
    "    for i in range(n-1):\n",
    "        if(arr[i]==arr[i+1]):\n",
    "            print(\"Array is not Unique\")\n",
    "            return\n",
    "        \n",
    "    print(\"Array is Unique\")"
   ]
  },
  {
   "cell_type": "code",
   "execution_count": 5,
   "id": "64581371",
   "metadata": {},
   "outputs": [
    {
     "name": "stdout",
     "output_type": "stream",
     "text": [
      "Array is not Unique\n",
      "0.009779299999999935\n"
     ]
    }
   ],
   "source": [
    "import timeit\n",
    "\n",
    "# arr = [1 , 1 , 3 , 4 , 5 , 6 , 7 , 8 , 9 , 10]\n",
    "# n = len(arr);\n",
    "\n",
    "start = timeit.default_timer()\n",
    "x = TrasformUnique(arr,n)\n",
    "end = timeit.timeit()\n",
    "trans_algo_time= timeit.default_timer()-start\n",
    "print(trans_algo_time)"
   ]
  },
  {
   "cell_type": "code",
   "execution_count": null,
   "id": "197c0e60",
   "metadata": {},
   "outputs": [],
   "source": []
  },
  {
   "cell_type": "markdown",
   "id": "2ef7a4d6",
   "metadata": {},
   "source": [
    "# BruteForce"
   ]
  },
  {
   "cell_type": "code",
   "execution_count": 6,
   "id": "a2cadb5d",
   "metadata": {},
   "outputs": [],
   "source": [
    "def BruteForceUnique(arr , n):    \n",
    "    NotDist = []\n",
    "    for i in range(n):\n",
    "        for j in range(i+1 , n):\n",
    "            if arr[i] == arr[j]:                \n",
    "                print(\"Array is not Unique\")\n",
    "                return\n",
    "    \n",
    "    print(\"Array is Unique\")                              "
   ]
  },
  {
   "cell_type": "code",
   "execution_count": 7,
   "id": "ff677a1c",
   "metadata": {},
   "outputs": [
    {
     "name": "stdout",
     "output_type": "stream",
     "text": [
      "Array is not Unique\n",
      "0.010863599999999973\n"
     ]
    }
   ],
   "source": [
    "import timeit\n",
    "\n",
    "# arr = [1 , 2 , 3 , 4 , 5 , 6 , 7 , 8 , 9 , 8]\n",
    "# n = len(arr);\n",
    "\n",
    "start = timeit.default_timer()\n",
    "x = BruteForceUnique(arr,n)\n",
    "end = timeit.timeit()\n",
    "trans_algo_time= timeit.default_timer()-start\n",
    "print(trans_algo_time)"
   ]
  },
  {
   "cell_type": "code",
   "execution_count": null,
   "id": "073d00db",
   "metadata": {},
   "outputs": [],
   "source": []
  }
 ],
 "metadata": {
  "kernelspec": {
   "display_name": "Python 3",
   "language": "python",
   "name": "python3"
  },
  "language_info": {
   "codemirror_mode": {
    "name": "ipython",
    "version": 3
   },
   "file_extension": ".py",
   "mimetype": "text/x-python",
   "name": "python",
   "nbconvert_exporter": "python",
   "pygments_lexer": "ipython3",
   "version": "3.8.8"
  }
 },
 "nbformat": 4,
 "nbformat_minor": 5
}
